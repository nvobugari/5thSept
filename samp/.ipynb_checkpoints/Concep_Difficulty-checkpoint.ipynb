{
 "cells": [
  {
   "cell_type": "code",
   "execution_count": 2,
   "metadata": {},
   "outputs": [],
   "source": [
    "import numpy as  np\n",
    "import pandas as pd"
   ]
  },
  {
   "cell_type": "code",
   "execution_count": 3,
   "metadata": {},
   "outputs": [],
   "source": [
    "data = pd.read_csv('MCQ_Dataset.csv')\n",
    "diff = data['Difficulty']\n",
    "con = data['Concept']\n",
    "key = data['Correct']\n",
    "A = data['A']\n",
    "B = data['B']\n",
    "C = data['C']\n",
    "D = data['D']"
   ]
  },
  {
   "cell_type": "code",
   "execution_count": 4,
   "metadata": {},
   "outputs": [],
   "source": [
    "c = {1: 30, 2: 30, 3: 30, 4: 30, 5: 20, 6: 22, 7: 25+9, 8: 12, 9: 23}\n",
    "d = {1: [10,10,10], 2: [10,10,10], 3: [10,10,10], 4: [10,10,10], 5: [5,10,5], 6: [8,10,4], 7: [8,17,9], 8: [3,6,3],9: [4,10,9]}\n",
    "c_a = np.zeros(len(con))\n",
    "d_a = np.zeros(len(diff))"
   ]
  },
  {
   "cell_type": "code",
   "execution_count": 5,
   "metadata": {},
   "outputs": [],
   "source": [
    "n = 1\n",
    "k = 1\n",
    "for i in range(1,len(c)+1):\n",
    "    c_a[k-1:k+c[n]-1] = n\n",
    "    k = k + c[n]\n",
    "    n = n+1    "
   ]
  },
  {
   "cell_type": "code",
   "execution_count": 6,
   "metadata": {},
   "outputs": [],
   "source": [
    "concepts = pd.Series([''])\n",
    "concepts = c_a\n",
    "data['Concept'] = concepts"
   ]
  },
  {
   "cell_type": "code",
   "execution_count": 7,
   "metadata": {},
   "outputs": [],
   "source": [
    "n = 1\n",
    "k = 1\n",
    "for i in range(1,len(d)+1):\n",
    "    d_a[k-1:k+d[n][0]-1] = 1\n",
    "    d_a[k+d[n][0]-1:k+d[n][0]+d[n][1]-1] = 2\n",
    "    d_a[k+d[n][0]+d[n][1]-1:k+d[n][0]+d[n][1]+d[n][2]-1] = 3    \n",
    "    k = k + c[n]\n",
    "    n = n+1\n"
   ]
  },
  {
   "cell_type": "code",
   "execution_count": 8,
   "metadata": {},
   "outputs": [],
   "source": [
    "difficulties = pd.Series([''])\n",
    "difficulties = d_a\n",
    "data['Difficulty'] = difficulties"
   ]
  },
  {
   "cell_type": "code",
   "execution_count": 9,
   "metadata": {},
   "outputs": [
    {
     "name": "stderr",
     "output_type": "stream",
     "text": [
      "C:\\Users\\A.BHAVANA\\anaconda3\\lib\\site-packages\\pandas\\core\\indexing.py:670: SettingWithCopyWarning: \n",
      "A value is trying to be set on a copy of a slice from a DataFrame\n",
      "\n",
      "See the caveats in the documentation: https://pandas.pydata.org/pandas-docs/stable/user_guide/indexing.html#returning-a-view-versus-a-copy\n",
      "  iloc._setitem_with_indexer(indexer, value)\n"
     ]
    }
   ],
   "source": [
    "for i in range(len(data)):\n",
    " if(key.iloc[i] == A.iloc[i]):\n",
    "    key.iloc[i] = \"A\"\n",
    " if(key.iloc[i] == B.iloc[i]):\n",
    "    key.iloc[i] = \"B\"\n",
    " if(key.iloc[i] == C.iloc[i]):\n",
    "    key.iloc[i] = \"C\"\n",
    " if(key.iloc[i] == D.iloc[i]):\n",
    "    key.iloc[i] = \"D\""
   ]
  },
  {
   "cell_type": "code",
   "execution_count": 17,
   "metadata": {},
   "outputs": [],
   "source": [
    "df = data.drop(data.columns[0], axis=1)\n",
    "df.to_csv('MCQ_Dataset1.csv')"
   ]
  },
  {
   "cell_type": "code",
   "execution_count": 18,
   "metadata": {},
   "outputs": [
    {
     "data": {
      "text/html": [
       "<div>\n",
       "<style scoped>\n",
       "    .dataframe tbody tr th:only-of-type {\n",
       "        vertical-align: middle;\n",
       "    }\n",
       "\n",
       "    .dataframe tbody tr th {\n",
       "        vertical-align: top;\n",
       "    }\n",
       "\n",
       "    .dataframe thead th {\n",
       "        text-align: right;\n",
       "    }\n",
       "</style>\n",
       "<table border=\"1\" class=\"dataframe\">\n",
       "  <thead>\n",
       "    <tr style=\"text-align: right;\">\n",
       "      <th></th>\n",
       "      <th>Unnamed: 0</th>\n",
       "      <th>Questions</th>\n",
       "      <th>Correct</th>\n",
       "      <th>A</th>\n",
       "      <th>B</th>\n",
       "      <th>C</th>\n",
       "      <th>D</th>\n",
       "      <th>Concept</th>\n",
       "      <th>Difficulty</th>\n",
       "    </tr>\n",
       "  </thead>\n",
       "  <tbody>\n",
       "    <tr>\n",
       "      <th>0</th>\n",
       "      <td>0</td>\n",
       "      <td>Knowing that Vijay's expenditure for first 3...</td>\n",
       "      <td>C</td>\n",
       "      <td>Rs. 220</td>\n",
       "      <td>Rs. 60</td>\n",
       "      <td>Rs. 50</td>\n",
       "      <td>Rs. 90</td>\n",
       "      <td>1.0</td>\n",
       "      <td>1.0</td>\n",
       "    </tr>\n",
       "    <tr>\n",
       "      <th>1</th>\n",
       "      <td>1</td>\n",
       "      <td>Without considering the salary of the boss, t...</td>\n",
       "      <td>D</td>\n",
       "      <td>Rs. 30000</td>\n",
       "      <td>Rs. 27000</td>\n",
       "      <td>Rs. 36000</td>\n",
       "      <td>Rs. 29000</td>\n",
       "      <td>1.0</td>\n",
       "      <td>1.0</td>\n",
       "    </tr>\n",
       "    <tr>\n",
       "      <th>2</th>\n",
       "      <td>2</td>\n",
       "      <td>What will be average price of all the goods ...</td>\n",
       "      <td>B</td>\n",
       "      <td>Rs. 9</td>\n",
       "      <td>Rs. 6</td>\n",
       "      <td>Rs. 5.5</td>\n",
       "      <td>Rs. 8.25</td>\n",
       "      <td>1.0</td>\n",
       "      <td>1.0</td>\n",
       "    </tr>\n",
       "    <tr>\n",
       "      <th>3</th>\n",
       "      <td>3</td>\n",
       "      <td>How much will be the average of the squares o...</td>\n",
       "      <td>C</td>\n",
       "      <td>612.5</td>\n",
       "      <td>1225</td>\n",
       "      <td>426</td>\n",
       "      <td>324</td>\n",
       "      <td>1.0</td>\n",
       "      <td>1.0</td>\n",
       "    </tr>\n",
       "    <tr>\n",
       "      <th>4</th>\n",
       "      <td>4</td>\n",
       "      <td>Find average of natural numbers from 1 to 65?</td>\n",
       "      <td>A</td>\n",
       "      <td>33</td>\n",
       "      <td>32.5</td>\n",
       "      <td>130</td>\n",
       "      <td>65</td>\n",
       "      <td>1.0</td>\n",
       "      <td>1.0</td>\n",
       "    </tr>\n",
       "  </tbody>\n",
       "</table>\n",
       "</div>"
      ],
      "text/plain": [
       "   Unnamed: 0                                          Questions Correct  \\\n",
       "0           0    Knowing that Vijay's expenditure for first 3...       C   \n",
       "1           1   Without considering the salary of the boss, t...       D   \n",
       "2           2    What will be average price of all the goods ...       B   \n",
       "3           3   How much will be the average of the squares o...       C   \n",
       "4           4      Find average of natural numbers from 1 to 65?       A   \n",
       "\n",
       "           A          B          C          D  Concept  Difficulty  \n",
       "0    Rs. 220     Rs. 60     Rs. 50     Rs. 90      1.0         1.0  \n",
       "1  Rs. 30000  Rs. 27000  Rs. 36000  Rs. 29000      1.0         1.0  \n",
       "2      Rs. 9      Rs. 6    Rs. 5.5   Rs. 8.25      1.0         1.0  \n",
       "3      612.5       1225        426        324      1.0         1.0  \n",
       "4         33       32.5        130         65      1.0         1.0  "
      ]
     },
     "execution_count": 18,
     "metadata": {},
     "output_type": "execute_result"
    }
   ],
   "source": [
    "data.head()"
   ]
  },
  {
   "cell_type": "code",
   "execution_count": null,
   "metadata": {},
   "outputs": [],
   "source": []
  }
 ],
 "metadata": {
  "kernelspec": {
   "display_name": "Python 3",
   "language": "python",
   "name": "python3"
  },
  "language_info": {
   "codemirror_mode": {
    "name": "ipython",
    "version": 3
   },
   "file_extension": ".py",
   "mimetype": "text/x-python",
   "name": "python",
   "nbconvert_exporter": "python",
   "pygments_lexer": "ipython3",
   "version": "3.8.5"
  }
 },
 "nbformat": 4,
 "nbformat_minor": 4
}
