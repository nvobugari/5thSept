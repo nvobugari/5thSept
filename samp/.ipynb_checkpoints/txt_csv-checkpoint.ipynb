{
 "cells": [
  {
   "cell_type": "code",
   "execution_count": 28,
   "metadata": {},
   "outputs": [],
   "source": [
    "import pandas as pd\n",
    "import numpy as np\n",
    "def txt_to_csv(path): \n",
    "  \"\"\"\n",
    "  The csv Generarted will be such:\n",
    "    |Questions | Correct | A | B | C | D |\n",
    "  0 |  myQ     |    B    | a | X | c | d |\n",
    "  \n",
    "  \"\"\"\n",
    "# Initialising cols as lists\n",
    "  questions=[]\n",
    "  key=[]    # Answer\n",
    "  dist1=[]  # A\n",
    "  dist2=[]  # B\n",
    "  dist3=[]  # C\n",
    "  dist4=[]  # D\n",
    "  with open(path, errors='ignore',mode=\"r\") as file1:\n",
    "      files = file1.readlines()  # Reads no.of lines in the file\n",
    "      i=0\n",
    "      for i in range(len(files)):\n",
    "        if files[i][0]=='\\n':  # Starts from empty line \n",
    "          try:\n",
    "            if files[i+1][3]=='#':  # Since every question starts with #\n",
    "              continue          \n",
    "            questions.append(files[i+1][3:len(files[i+1])-1])  # Adding Question to the column\n",
    "            key.append(files[i+2][8:len(files[i+2])-1])   # Adding answer to the col \n",
    "            if (files[i+3]!=\"\\n\"):\n",
    "              dist1.append(files[i+3][3:len(files[i+3])-1])   # Adding option A to the col \n",
    "            else:                        # if the next line is \\n (empty)\n",
    "              dist1.append(np.nan) \n",
    "              dist2.append(np.nan)\n",
    "              dist3.append(np.nan)\n",
    "              dist4.append(np.nan)\n",
    "              continue\n",
    "            if (files[i+4]!=\"\\n\"):\n",
    "              dist2.append(files[i+4][3:len(files[i+4])-1])    # Adding option B to the col\n",
    "            else:\n",
    "              dist2.append(np.nan)\n",
    "              dist3.append(np.nan)\n",
    "              dist4.append(np.nan)\n",
    "              continue\n",
    "            if (files[i+5]!=\"\\n\"):\n",
    "              dist3.append(files[i+5][3:len(files[i+5])-1])      # Adding option C to the col\n",
    "            else:\n",
    "              dist3.append(np.nan)\n",
    "              dist4.append(np.nan)\n",
    "              continue\n",
    "            if (files[i+6]!=\"\\n\"):\n",
    "              dist4.append(files[i+6][3:len(files[i+6])-1])      # Adding option D to the col\n",
    "            else:\n",
    "              dist4.append(np.nan)\n",
    "          except:\n",
    "            pass\n",
    "  # Bank as dictionary with col headings as keys\n",
    "  bank={}\n",
    "  bank[\"Questions\"]=questions\n",
    "  bank[\"Correct\"]=key\n",
    "  bank[\"A\"]=dist1\n",
    "  bank[\"B\"]=dist2\n",
    "  bank[\"C\"]=dist3\n",
    "  bank[\"D\"]=dist4\n",
    "  bank['Concept']=''\n",
    "  bank['Difficulty']=''\n",
    "  df=pd.DataFrame(bank)\n",
    "  return df\n",
    "\n",
    "def parse_files(sourcePath,destination): # Functions that takes source and destination files\n",
    " \n",
    "     data=txt_to_csv(sourcePath)\n",
    "     data.to_csv(destination)\n",
    "\n",
    "parse_files('MCQ_Dataset.txt','MCQ_Dataset.csv')"
   ]
  },
  {
   "cell_type": "code",
   "execution_count": 29,
   "metadata": {},
   "outputs": [],
   "source": [
    "df = pd.read_csv('MCQ_Dataset.csv')\n",
    "df.drop_duplicates(subset=None, inplace=True)\n",
    "\n",
    "# Write the results to a different file\n"
   ]
  },
  {
   "cell_type": "code",
   "execution_count": 30,
   "metadata": {},
   "outputs": [],
   "source": [
    "df = pd.read_csv('MCQ_Dataset.csv')\n",
    "df.drop_duplicates(subset=None, inplace=True)\n",
    "\n",
    "# Write the results to a different file\n",
    "df.drop_duplicates(subset =\"Questions\",keep = False, inplace = True)\n",
    "df.to_csv('MCQ_Dataset.csv', index=False)"
   ]
  },
  {
   "cell_type": "code",
   "execution_count": null,
   "metadata": {},
   "outputs": [],
   "source": []
  }
 ],
 "metadata": {
  "kernelspec": {
   "display_name": "Python 3",
   "language": "python",
   "name": "python3"
  },
  "language_info": {
   "codemirror_mode": {
    "name": "ipython",
    "version": 3
   },
   "file_extension": ".py",
   "mimetype": "text/x-python",
   "name": "python",
   "nbconvert_exporter": "python",
   "pygments_lexer": "ipython3",
   "version": "3.8.5"
  }
 },
 "nbformat": 4,
 "nbformat_minor": 4
}
