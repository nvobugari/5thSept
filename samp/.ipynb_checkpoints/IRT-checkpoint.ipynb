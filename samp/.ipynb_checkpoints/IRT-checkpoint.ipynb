{
 "cells": [
  {
   "cell_type": "code",
   "execution_count": 1,
   "metadata": {},
   "outputs": [],
   "source": [
    "# Importing necessary packages\n",
    "import numpy as np\n",
    "import girth\n",
    "import pandas as pd"
   ]
  },
  {
   "cell_type": "code",
   "execution_count": 2,
   "metadata": {},
   "outputs": [],
   "source": [
    "# Importing ability_mle - ability estimation using maximum likelihood estimation\n",
    "# Importing twopl_jml = two parameter (discrimination, difficulty) joint maximum likelihood \n",
    "from girth import ability_mle\n",
    "from girth import twopl_jml"
   ]
  },
  {
   "cell_type": "code",
   "execution_count": 36,
   "metadata": {},
   "outputs": [],
   "source": [
    "# Converting dataframes to numpy arrays\n",
    "res = pd.read_csv('responses.csv')\n",
    "diff = pd.read_csv('difficulties.csv')\n",
    "res_a = res.to_numpy()\n",
    "diff_a = diff.to_numpy()"
   ]
  },
  {
   "cell_type": "code",
   "execution_count": 41,
   "metadata": {},
   "outputs": [
    {
     "data": {
      "text/plain": [
       "(array([[ True,  True, False, False,  True],\n",
       "        [False,  True, False,  True, False]]),\n",
       " array([[1, 2, 3, 2, 1],\n",
       "        [1, 1, 3, 2, 3]]))"
      ]
     },
     "execution_count": 41,
     "metadata": {},
     "output_type": "execute_result"
    }
   ],
   "source": [
    "# Priniting the data (responses and difficulties)\n",
    "res_a, diff_a"
   ]
  },
  {
   "cell_type": "code",
   "execution_count": 42,
   "metadata": {},
   "outputs": [],
   "source": [
    "# Transponse of the responses since the ability_mle function takes the columns as responses\n",
    "irt_res = res_a.T\n",
    "# The difficulties of questions attempted by each student are seperated\n",
    "irt_d1 = diff_a[0]\n",
    "irt_d2 = diff_a[1]\n",
    "# The discrimination of each question is assumed to be 1\n",
    "irt_dc1 = np.ones(len(diff_a[0]))\n",
    "irt_dc2 = np.ones(len(diff_a[1]))"
   ]
  },
  {
   "cell_type": "code",
   "execution_count": 43,
   "metadata": {},
   "outputs": [],
   "source": [
    "# Maximum likelihood estimation of student's ability\n",
    "as1 = ability_mle(irt_res, irt_d1, irt_dc1)[0]\n",
    "as2 = ability_mle(irt_res, irt_d2, irt_dc2)[1]"
   ]
  },
  {
   "cell_type": "code",
   "execution_count": 45,
   "metadata": {},
   "outputs": [
    {
     "name": "stdout",
     "output_type": "stream",
     "text": [
      "Ability of student-1 is : 4.523344809599155\n",
      "Ability of student-2 is : 4.097258704379331\n"
     ]
    }
   ],
   "source": [
    "as1 = 1/(1+np.exp(-as1))\n",
    "as2 = 1/(1+np.exp(-as2))\n",
    "print(\"Ability of student-1 is :\", 5*as1)\n",
    "print(\"Ability of student-2 is :\", 5*as2)"
   ]
  },
  {
   "cell_type": "code",
   "execution_count": null,
   "metadata": {},
   "outputs": [],
   "source": []
  }
 ],
 "metadata": {
  "kernelspec": {
   "display_name": "Python 3",
   "language": "python",
   "name": "python3"
  },
  "language_info": {
   "codemirror_mode": {
    "name": "ipython",
    "version": 3
   },
   "file_extension": ".py",
   "mimetype": "text/x-python",
   "name": "python",
   "nbconvert_exporter": "python",
   "pygments_lexer": "ipython3",
   "version": "3.8.5"
  }
 },
 "nbformat": 4,
 "nbformat_minor": 4
}
