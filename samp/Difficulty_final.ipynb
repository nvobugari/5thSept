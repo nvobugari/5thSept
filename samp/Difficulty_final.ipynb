{
 "cells": [
  {
   "cell_type": "code",
   "execution_count": 21,
   "metadata": {},
   "outputs": [],
   "source": [
    "# Importing all the packages\n",
    "import pandas as pd\n",
    "import numpy as np\n",
    "import tensorflow\n",
    "from tensorflow import keras as kr\n",
    "import time"
   ]
  },
  {
   "cell_type": "code",
   "execution_count": 22,
   "metadata": {},
   "outputs": [
    {
     "data": {
      "text/html": [
       "<div>\n",
       "<style scoped>\n",
       "    .dataframe tbody tr th:only-of-type {\n",
       "        vertical-align: middle;\n",
       "    }\n",
       "\n",
       "    .dataframe tbody tr th {\n",
       "        vertical-align: top;\n",
       "    }\n",
       "\n",
       "    .dataframe thead th {\n",
       "        text-align: right;\n",
       "    }\n",
       "</style>\n",
       "<table border=\"1\" class=\"dataframe\">\n",
       "  <thead>\n",
       "    <tr style=\"text-align: right;\">\n",
       "      <th></th>\n",
       "      <th>Unnamed: 0</th>\n",
       "      <th>Response</th>\n",
       "      <th>Present_Difficulty</th>\n",
       "      <th>Time</th>\n",
       "      <th>Concept</th>\n",
       "      <th>Difficulty</th>\n",
       "    </tr>\n",
       "  </thead>\n",
       "  <tbody>\n",
       "    <tr>\n",
       "      <th>0</th>\n",
       "      <td>0</td>\n",
       "      <td>1</td>\n",
       "      <td>1</td>\n",
       "      <td>16</td>\n",
       "      <td>1</td>\n",
       "      <td>2</td>\n",
       "    </tr>\n",
       "    <tr>\n",
       "      <th>1</th>\n",
       "      <td>1</td>\n",
       "      <td>1</td>\n",
       "      <td>1</td>\n",
       "      <td>29</td>\n",
       "      <td>1</td>\n",
       "      <td>1</td>\n",
       "    </tr>\n",
       "    <tr>\n",
       "      <th>2</th>\n",
       "      <td>2</td>\n",
       "      <td>1</td>\n",
       "      <td>1</td>\n",
       "      <td>37</td>\n",
       "      <td>1</td>\n",
       "      <td>1</td>\n",
       "    </tr>\n",
       "    <tr>\n",
       "      <th>3</th>\n",
       "      <td>3</td>\n",
       "      <td>1</td>\n",
       "      <td>1</td>\n",
       "      <td>36</td>\n",
       "      <td>1</td>\n",
       "      <td>1</td>\n",
       "    </tr>\n",
       "    <tr>\n",
       "      <th>4</th>\n",
       "      <td>4</td>\n",
       "      <td>1</td>\n",
       "      <td>1</td>\n",
       "      <td>23</td>\n",
       "      <td>1</td>\n",
       "      <td>2</td>\n",
       "    </tr>\n",
       "  </tbody>\n",
       "</table>\n",
       "</div>"
      ],
      "text/plain": [
       "   Unnamed: 0  Response  Present_Difficulty  Time  Concept  Difficulty\n",
       "0           0         1                   1    16        1           2\n",
       "1           1         1                   1    29        1           1\n",
       "2           2         1                   1    37        1           1\n",
       "3           3         1                   1    36        1           1\n",
       "4           4         1                   1    23        1           2"
      ]
     },
     "execution_count": 22,
     "metadata": {},
     "output_type": "execute_result"
    }
   ],
   "source": [
    "# Loading the datset\n",
    "data = pd.read_csv('Concepts_9.csv')\n",
    "data.head()"
   ]
  },
  {
   "cell_type": "code",
   "execution_count": 29,
   "metadata": {},
   "outputs": [],
   "source": [
    "# Seperating labels from features\n",
    "all_types = data['Difficulty'].values\n",
    "concepts = data['Concept'].values"
   ]
  },
  {
   "cell_type": "code",
   "execution_count": 31,
   "metadata": {},
   "outputs": [],
   "source": [
    "# Encoding labels as one-hot vectors (categorical-integerlookup)\n",
    "outputs_vals, outputs_ints = np.unique(all_types, return_inverse=True)\n",
    "outputs_cats = kr.utils.to_categorical(outputs_ints)\n",
    "# Encoding Concepts as one-hot vectors (categorical-integerlookup) Concepts-1 to 9\n",
    "c_vals,c_ints = np.unique(concepts, return_inverse=True)\n",
    "c_cats = kr.utils.to_categorical(c_ints)\n",
    "# Appendinf the one hot vector of concepts to the input features array\n",
    "inputs = data[['Response','Present_Difficulty', 'Time']].values\n",
    "all_inputs  = np.append(inputs,c_cats,axis =1)\n"
   ]
  },
  {
   "cell_type": "code",
   "execution_count": 32,
   "metadata": {},
   "outputs": [],
   "source": [
    "# Splitting the dataset into train and test\n",
    "inds = np.random.permutation(len(all_inputs))\n",
    "train_inds, test_inds = np.array_split(inds, 2)\n",
    "inputs_train, outputs_train = all_inputs[train_inds], outputs_cats[train_inds]\n",
    "inputs_test,  outputs_test  = all_inputs[test_inds],  outputs_cats[test_inds]"
   ]
  },
  {
   "cell_type": "code",
   "execution_count": 25,
   "metadata": {},
   "outputs": [],
   "source": [
    "# Building Model\n",
    "model = kr.models.Sequential()\n",
    "model.add(kr.layers.Dense(32, input_shape=(4+8,)))\n",
    "model.add(kr.layers.Activation(\"sigmoid\"))\n",
    "model.add(kr.layers.Dense(3))\n",
    "model.add(kr.layers.Activation(\"softmax\"))"
   ]
  },
  {
   "cell_type": "code",
   "execution_count": 33,
   "metadata": {},
   "outputs": [
    {
     "data": {
      "text/plain": [
       "<tensorflow.python.keras.callbacks.History at 0x262c1894b20>"
      ]
     },
     "execution_count": 33,
     "metadata": {},
     "output_type": "execute_result"
    }
   ],
   "source": [
    "# Training the model\n",
    "model.compile(optimizer=\"adam\", loss=\"categorical_crossentropy\", metrics=[\"accuracy\"])\n",
    "model.fit(inputs_train, outputs_train, epochs=100, batch_size=1, verbose=0)"
   ]
  },
  {
   "cell_type": "code",
   "execution_count": 34,
   "metadata": {},
   "outputs": [
    {
     "name": "stdout",
     "output_type": "stream",
     "text": [
      "Loss:    0.12371\tAccuracy: 94.81 %\n"
     ]
    }
   ],
   "source": [
    "# Printing the loss and accuracy\n",
    "loss, accuracy = model.evaluate(inputs_test, outputs_test, verbose=0)\n",
    "print(\"Loss: %10.5f\\tAccuracy: %2.2f %%\" % (loss, accuracy*100))"
   ]
  },
  {
   "cell_type": "code",
   "execution_count": 38,
   "metadata": {},
   "outputs": [
    {
     "name": "stdout",
     "output_type": "stream",
     "text": [
      "[0. 0. 0. 1. 0. 0. 0. 0. 0.]\n",
      "Model prediction in hot vector output: [0 0 1]\n",
      "Model prediction in actual Difficulty: 3\n"
     ]
    }
   ],
   "source": [
    "# Predicting with custom sample\n",
    "# Converting the concepts into one-hot-vectors\n",
    "ints = [0,1,2,3,4,5,6,7,8]\n",
    "c = kr.utils.to_categorical(ints)[3]\n",
    "print(c)\n",
    "# 1- Response, 2- Present Difficulty and 14- Time taken\n",
    "test = [1,2,14]\n",
    "test.extend(c) # adding the concept parameter to the test sample\n",
    "#Predicting using the model\n",
    "prediction = np.around(model.predict(np.expand_dims(test, axis=0))).astype(np.int)[0]  # not sure about the np.expand_dims command \n",
    "print(\"Model prediction in hot vector output: %s\" % prediction)\n",
    "print(\"Model prediction in actual Difficulty: %s\" % outputs_vals[prediction.astype(np.bool)][0])\n"
   ]
  },
  {
   "cell_type": "markdown",
   "metadata": {},
   "source": [
    "#  Testing with questions"
   ]
  },
  {
   "cell_type": "code",
   "execution_count": 10,
   "metadata": {},
   "outputs": [
    {
     "data": {
      "text/html": [
       "<div>\n",
       "<style scoped>\n",
       "    .dataframe tbody tr th:only-of-type {\n",
       "        vertical-align: middle;\n",
       "    }\n",
       "\n",
       "    .dataframe tbody tr th {\n",
       "        vertical-align: top;\n",
       "    }\n",
       "\n",
       "    .dataframe thead th {\n",
       "        text-align: right;\n",
       "    }\n",
       "</style>\n",
       "<table border=\"1\" class=\"dataframe\">\n",
       "  <thead>\n",
       "    <tr style=\"text-align: right;\">\n",
       "      <th></th>\n",
       "      <th>Qno</th>\n",
       "      <th>Questions</th>\n",
       "      <th>Correct</th>\n",
       "      <th>A</th>\n",
       "      <th>B</th>\n",
       "      <th>C</th>\n",
       "      <th>D</th>\n",
       "      <th>Concept</th>\n",
       "      <th>Difficulty</th>\n",
       "    </tr>\n",
       "  </thead>\n",
       "  <tbody>\n",
       "    <tr>\n",
       "      <th>0</th>\n",
       "      <td>0</td>\n",
       "      <td>Knowing that Vijay's expenditure for first 3...</td>\n",
       "      <td>C</td>\n",
       "      <td>Rs. 220</td>\n",
       "      <td>Rs. 60</td>\n",
       "      <td>Rs. 50</td>\n",
       "      <td>Rs. 90</td>\n",
       "      <td>1.0</td>\n",
       "      <td>1.0</td>\n",
       "    </tr>\n",
       "    <tr>\n",
       "      <th>1</th>\n",
       "      <td>1</td>\n",
       "      <td>Without considering the salary of the boss, t...</td>\n",
       "      <td>D</td>\n",
       "      <td>Rs. 30000</td>\n",
       "      <td>Rs. 27000</td>\n",
       "      <td>Rs. 36000</td>\n",
       "      <td>Rs. 29000</td>\n",
       "      <td>1.0</td>\n",
       "      <td>1.0</td>\n",
       "    </tr>\n",
       "    <tr>\n",
       "      <th>2</th>\n",
       "      <td>2</td>\n",
       "      <td>What will be average price of all the goods ...</td>\n",
       "      <td>B</td>\n",
       "      <td>Rs. 9</td>\n",
       "      <td>Rs. 6</td>\n",
       "      <td>Rs. 5.5</td>\n",
       "      <td>Rs. 8.25</td>\n",
       "      <td>1.0</td>\n",
       "      <td>1.0</td>\n",
       "    </tr>\n",
       "    <tr>\n",
       "      <th>3</th>\n",
       "      <td>3</td>\n",
       "      <td>How much will be the average of the squares o...</td>\n",
       "      <td>C</td>\n",
       "      <td>612.5</td>\n",
       "      <td>1225</td>\n",
       "      <td>426</td>\n",
       "      <td>324</td>\n",
       "      <td>1.0</td>\n",
       "      <td>1.0</td>\n",
       "    </tr>\n",
       "    <tr>\n",
       "      <th>4</th>\n",
       "      <td>4</td>\n",
       "      <td>Find average of natural numbers from 1 to 65?</td>\n",
       "      <td>A</td>\n",
       "      <td>33</td>\n",
       "      <td>32.5</td>\n",
       "      <td>130</td>\n",
       "      <td>65</td>\n",
       "      <td>1.0</td>\n",
       "      <td>1.0</td>\n",
       "    </tr>\n",
       "  </tbody>\n",
       "</table>\n",
       "</div>"
      ],
      "text/plain": [
       "   Qno                                          Questions Correct          A  \\\n",
       "0    0    Knowing that Vijay's expenditure for first 3...       C    Rs. 220   \n",
       "1    1   Without considering the salary of the boss, t...       D  Rs. 30000   \n",
       "2    2    What will be average price of all the goods ...       B      Rs. 9   \n",
       "3    3   How much will be the average of the squares o...       C      612.5   \n",
       "4    4      Find average of natural numbers from 1 to 65?       A         33   \n",
       "\n",
       "           B          C          D  Concept  Difficulty  \n",
       "0     Rs. 60     Rs. 50     Rs. 90      1.0         1.0  \n",
       "1  Rs. 27000  Rs. 36000  Rs. 29000      1.0         1.0  \n",
       "2      Rs. 6    Rs. 5.5   Rs. 8.25      1.0         1.0  \n",
       "3       1225        426        324      1.0         1.0  \n",
       "4       32.5        130         65      1.0         1.0  "
      ]
     },
     "execution_count": 10,
     "metadata": {},
     "output_type": "execute_result"
    }
   ],
   "source": [
    "#Loading questions dataset\n",
    "q_data = pd.read_csv('MCQ_Dataset1.csv')\n",
    "q_data.head()"
   ]
  },
  {
   "cell_type": "code",
   "execution_count": 11,
   "metadata": {},
   "outputs": [],
   "source": [
    "#testing for concept-1\n",
    "data_test = q_data"
   ]
  },
  {
   "cell_type": "code",
   "execution_count": 12,
   "metadata": {},
   "outputs": [],
   "source": [
    "# Getting the all the attributes from one example in the dataset\n",
    "q_no,Question,key,A,B,C,D,concept,Present_Difficulty= q_data.iloc[25]"
   ]
  },
  {
   "cell_type": "code",
   "execution_count": 15,
   "metadata": {},
   "outputs": [
    {
     "name": "stdout",
     "output_type": "stream",
     "text": [
      "Q:   Vijay says that his weight is between 75kg and 85kg. But his sister says that his weight is between 70kg and 80kg. his mother says that his weight cannot be greater than 78kg. If all the three predictions are correct, what is the average of different probable weights of Vijay?\n",
      "A  75\n",
      "B  80\n",
      "C  78.5\n",
      "D  76.5\n"
     ]
    }
   ],
   "source": [
    "#Question\n",
    "# If the question is of Fill in the blank type - The options A,B,C and D are 0s in the dataset\n",
    "# If the question is of MCQ type:\n",
    "\n",
    "if(A!='0'):\n",
    " print(\"Q:\",Question)\n",
    " print(\"A \",A)\n",
    " print(\"B \",B)\n",
    " print(\"C \",C)\n",
    " print(\"D \",D)\n",
    "# If the question is of Fill in the  blank type type\n",
    "else:\n",
    "    print(Question)"
   ]
  },
  {
   "cell_type": "code",
   "execution_count": 39,
   "metadata": {},
   "outputs": [
    {
     "name": "stdout",
     "output_type": "stream",
     "text": [
      "Enter the option: D\n"
     ]
    }
   ],
   "source": [
    "#For user to answer and count the time using \"time\" library in python\n",
    "begin = time.time()\n",
    "Answer = input(\"Enter the option: \")\n",
    "end = time.time()"
   ]
  },
  {
   "cell_type": "code",
   "execution_count": 17,
   "metadata": {},
   "outputs": [],
   "source": [
    "#Converting concepts categories to one-hot vectors\n",
    "ints = [0,1,2,3,4,5,6,7,8]\n",
    "c = kr.utils.to_categorical(ints)[int(concept-1)]\n"
   ]
  },
  {
   "cell_type": "code",
   "execution_count": 40,
   "metadata": {},
   "outputs": [
    {
     "name": "stdout",
     "output_type": "stream",
     "text": [
      "Response: 1  Time(s): 8  Present Difficulty: 3.0\n",
      "Model prediction in actual Difficulty: 3\n"
     ]
    }
   ],
   "source": [
    "# Predicting the difficulty of next question\n",
    "if(A!='0'):\n",
    " if(Answer == key):\n",
    "  response = 1\n",
    " else:\n",
    "  response = 0\n",
    "else:\n",
    "  if(Answer == key):\n",
    "    response = 1\n",
    "  else:\n",
    "    response = 0 \n",
    "# Time taken converted to an integer value\n",
    "time_taken = int(end-begin)\n",
    "#Inputs to the model - response,Present_Difficulty,time_taken and concept as one-hot-vector\n",
    "test = [response,Present_Difficulty,time_taken]\n",
    "test.extend(c)\n",
    "print(\"Response:\",response,\" Time(s):\",time_taken,\" Present Difficulty:\",Present_Difficulty)\n",
    "prediction = np.around(model.predict(np.expand_dims(test, axis=0))).astype(np.int)[0]\n",
    "print(\"Model prediction in actual Difficulty: %s\" % outputs_vals[prediction.astype(np.bool)][0])"
   ]
  },
  {
   "cell_type": "markdown",
   "metadata": {},
   "source": [
    "# Using mySQL Table"
   ]
  },
  {
   "cell_type": "code",
   "execution_count": 19,
   "metadata": {},
   "outputs": [
    {
     "ename": "ModuleNotFoundError",
     "evalue": "No module named 'mysql'",
     "output_type": "error",
     "traceback": [
      "\u001b[1;31m---------------------------------------------------------------------------\u001b[0m",
      "\u001b[1;31mModuleNotFoundError\u001b[0m                       Traceback (most recent call last)",
      "\u001b[1;32m<ipython-input-19-36266a399fc5>\u001b[0m in \u001b[0;36m<module>\u001b[1;34m\u001b[0m\n\u001b[0;32m      1\u001b[0m \u001b[1;31m# Importing necessary packages for mySQL server\u001b[0m\u001b[1;33m\u001b[0m\u001b[1;33m\u001b[0m\u001b[1;33m\u001b[0m\u001b[0m\n\u001b[1;32m----> 2\u001b[1;33m \u001b[1;32mimport\u001b[0m \u001b[0mmysql\u001b[0m\u001b[1;33m.\u001b[0m\u001b[0mconnector\u001b[0m\u001b[1;33m\u001b[0m\u001b[1;33m\u001b[0m\u001b[0m\n\u001b[0m\u001b[0;32m      3\u001b[0m \u001b[1;32mimport\u001b[0m \u001b[0mnumpy\u001b[0m\u001b[1;33m\u001b[0m\u001b[1;33m\u001b[0m\u001b[0m\n\u001b[0;32m      4\u001b[0m \u001b[1;31m# Connceting to the server\u001b[0m\u001b[1;33m\u001b[0m\u001b[1;33m\u001b[0m\u001b[1;33m\u001b[0m\u001b[0m\n\u001b[0;32m      5\u001b[0m \u001b[1;32mtry\u001b[0m\u001b[1;33m:\u001b[0m\u001b[1;33m\u001b[0m\u001b[1;33m\u001b[0m\u001b[0m\n",
      "\u001b[1;31mModuleNotFoundError\u001b[0m: No module named 'mysql'"
     ]
    }
   ],
   "source": [
    "# Importing necessary packages for mySQL server\n",
    "import mysql.connector\n",
    "import numpy\n",
    "# Connceting to the server\n",
    "try:\n",
    "    connection = mysql.connector.connect(host='localhost',\n",
    "                                         database='mydb', #Name of the database - mydb\n",
    "                                         user='root',\n",
    "                                         password='Root@123')\n",
    "    # Name of the query - Questions\n",
    "    sql_select_Query = \"select * from questions\"\n",
    "    cursor = connection.cursor()\n",
    "    cursor.execute(sql_select_Query)\n",
    "    # get all records\n",
    "    records = cursor.fetchall()\n",
    "    print(\"Total number of rows in table: \", cursor.rowcount)\n",
    "    #Storing each column in different arrays declared below\n",
    "    qno = numpy.zeros(cursor.rowcount)\n",
    "    question = numpy.empty(cursor.rowcount, dtype=object)\n",
    "    ans = numpy.empty(cursor.rowcount, dtype=object)\n",
    "    A = numpy.empty(cursor.rowcount, dtype=object)\n",
    "    B = numpy.empty(cursor.rowcount, dtype=object)\n",
    "    C = numpy.empty(cursor.rowcount, dtype=object)\n",
    "    D = numpy.empty(cursor.rowcount, dtype=object)\n",
    "    concept = numpy.zeros(cursor.rowcount)\n",
    "    difficulty = numpy.zeros(cursor.rowcount)\n",
    "    print(\"\\nPrinting each row\")\n",
    "    i = 0\n",
    "    for row in records:\n",
    "        # Assigning each column to value to respective column names\n",
    "        qno[i] = row[0]\n",
    "        question[i] = row[1]\n",
    "        ans[i] = row[2]\n",
    "        A[i] = row[3]\n",
    "        B[i] = row[4]\n",
    "        C[i] = row[5]\n",
    "        D[i] = row[6]\n",
    "        concept[i] = row[7]\n",
    "        difficulty[i] = row[8]\n",
    "        i = i+1\n",
    "        \n",
    "\n",
    "except mysql.connector.Error as e:\n",
    "    print(\"Error reading data from MySQL table\", e)\n",
    "finally:\n",
    "    if connection.is_connected():\n",
    "        connection.close()\n",
    "        cursor.close()\n",
    "        print(\"MySQL connection is closed\")"
   ]
  },
  {
   "cell_type": "markdown",
   "metadata": {},
   "source": [
    "#  Writing the responses into the table"
   ]
  },
  {
   "cell_type": "code",
   "execution_count": 20,
   "metadata": {},
   "outputs": [],
   "source": [
    "# Importing random package for selecting random question\n",
    "import random\n",
    "iter = 0\n",
    "# A function to extract elements from list of list (as we get question numbers as list of list)\n",
    "def Extract(lst):\n",
    "    return [item[0] for item in lst]\n",
    "\n",
    "# A function to select a random question with specified difficulty and concept from dataset of questions\n",
    "def DIFF(concept, difficulty, con, diff):\n",
    " a = numpy.where(difficulty==diff)\n",
    " b = numpy.where(concept==con)\n",
    " c = a and b\n",
    " diff = []\n",
    " for i in range(30):\n",
    "  diff.append([x[i] for x in c])\n",
    " d = Extract(diff)\n",
    " # selecting a rrandom question number\n",
    " return random.sample(d,1)\n"
   ]
  },
  {
   "cell_type": "code",
   "execution_count": 27,
   "metadata": {},
   "outputs": [
    {
     "name": "stdout",
     "output_type": "stream",
     "text": [
      "Q: ['  Average of six numbers comes out to be 3.95. Average of two of the numbers is 3.4 while the average of other two is 3.85. Determine the average of the two numbers left.']\n",
      "A ['4.7']\n",
      "B ['4.8']\n",
      "C ['4.3']\n",
      "D ['4.6']\n",
      "Key ['D']\n",
      "Enter the option:D\n",
      "Response: 1  Time(s): 13  Present Difficulty: 1\n",
      "Model prediction in actual Difficulty: 2\n",
      "Q: [\"  Knowing that Vijay's expenditure for first 3 days is Rs. 100, Rs. 125 and Rs. 85, what is his 4th day expenditure as his 4 days average expenditure Rs. 90?\"]\n",
      "A ['Rs. 220']\n",
      "B ['Rs. 60']\n",
      "C ['Rs. 50']\n",
      "D ['Rs. 90']\n",
      "Key ['C']\n",
      "Enter the option:C\n",
      "Response: 1  Time(s): 10  Present Difficulty: 2\n",
      "Model prediction in actual Difficulty: 3\n",
      "Q: ['  The average weight of three boys P, Q and R is 54 kg, while the average weight of three boys Q, S and T is 60 kg. What is the average weight of P, Q, R, S and T?']\n",
      "A ['66.4 kg']\n",
      "B ['63.2 kg']\n",
      "C ['58.8 kg']\n",
      "D ['Data Inadequate']\n",
      "Key ['D']\n",
      "Enter the option:A\n",
      "Response: 0  Time(s): 15  Present Difficulty: 3\n",
      "Model prediction in actual Difficulty: 2\n",
      "Q: ['  3 boxes have some average weight. When one box which weighs 89 kg is replaced by another box, the average weight increases by 5 kg. How much the new box weighs?']\n",
      "A ['109 kg']\n",
      "B ['94 kg']\n",
      "C ['104 kg']\n",
      "D ['84 kg']\n",
      "Key ['C']\n",
      "Enter the option:A\n",
      "Response: 0  Time(s): 4  Present Difficulty: 2\n",
      "Model prediction in actual Difficulty: 1\n",
      "Q: ['  In the India-Australia one day match, due to rain, India needed 324 runs in 48 overs to win. In initial 10 overs, the average scoring rate was 6, but in next 10 overs it increased to 8.5. It then declined to 5.5 in next 10 overs and again rose to 7 in next 10 overs. To win the match now what average is needed?']\n",
      "A ['8.25']\n",
      "B ['6.75']\n",
      "C ['7.75']\n",
      "D ['7.0']\n",
      "Key ['B']\n",
      "Enter the option:B\n",
      "Response: 1  Time(s): 3  Present Difficulty: 1\n",
      "Model prediction in actual Difficulty: 3\n"
     ]
    }
   ],
   "source": [
    "# To record the responses of the student in res2 list and difficulties as d1, question numbers Q1 (For sorting purpose according to question number) \n",
    "res1 = []\n",
    "d1 = []\n",
    "Q1 = []\n",
    "# Begining with difficulty = 1 in concept = 1 \n",
    "diff = 1\n",
    "for i in range(5):\n",
    "    # Getting a question number with given difficulty and concept    \n",
    "    d1.append(diff)\n",
    "    qno = DIFF(concept, difficulty, 1, diff)\n",
    "    Q1.append(qno)\n",
    "    q,k,a,b,c,d = question[qno],ans[qno],A[qno], B[qno], C[qno], D[qno]\n",
    "    print(\"Q:\",q)\n",
    "    print(\"A\",a)\n",
    "    print(\"B\",b)\n",
    "    print(\"C\",c)\n",
    "    print(\"D\",d)\n",
    "    print(\"Key\", k)\n",
    "    begin = time.time()\n",
    "    ans1 = input(\"Enter the option:\")\n",
    "    end = time.time()\n",
    "    \n",
    "    if(ans1 == k):\n",
    "        response = 1\n",
    "        res1.append(True)\n",
    "    else:\n",
    "        response =0\n",
    "        res1.append(False)\n",
    "    # Time taken converted to an integer value\n",
    "    time_taken = int(end-begin)\n",
    "    test = [response,diff,time_taken]\n",
    "    ints = [0,1,2,3,4,5,6,7,8]\n",
    "    c = kr.utils.to_categorical(ints)[int(1-1)]\n",
    "    test.extend(c)\n",
    "    print(\"Response:\",response,\" Time(s):\",time_taken,\" Present Difficulty:\",diff)\n",
    "    prediction = np.around(model.predict(np.expand_dims(test, axis=0))).astype(np.int)[0]\n",
    "    print(\"Model prediction in actual Difficulty: %s\" % outputs_vals[prediction.astype(np.bool)][0])\n",
    "    diff = outputs_vals[prediction.astype(np.bool)][0] \n",
    "\n",
    "# The key is printed for testing purpose\n",
    "# The difficulty of the next difficulty is predicted and the question with that difficulty is printed next"
   ]
  },
  {
   "cell_type": "code",
   "execution_count": 45,
   "metadata": {},
   "outputs": [
    {
     "data": {
      "text/plain": [
       "([[29], [0], [22], [14], [20]],\n",
       " [1, 2, 3, 2, 1],\n",
       " [True, True, False, False, True])"
      ]
     },
     "execution_count": 45,
     "metadata": {},
     "output_type": "execute_result"
    }
   ],
   "source": [
    "# Printing the question  umbers, difficulties, and the responses of the students\n",
    "d1 = [ int(x) for x in d1]\n",
    "Q1,d1,res1"
   ]
  },
  {
   "cell_type": "code",
   "execution_count": 29,
   "metadata": {},
   "outputs": [
    {
     "name": "stdout",
     "output_type": "stream",
     "text": [
      "Q: ['  Of the 20 cycles sold by Ajay, average cost of 12 cycles is Rs. 18000. In total he earned Rs. 300000. What was the average cost of remaining cycles?']\n",
      "A ['Rs. 10500']\n",
      "B ['Rs. 7500']\n",
      "C ['Rs. 9125']\n",
      "D ['Rs. 9750']\n",
      "Key ['A']\n",
      "Enter the option:B\n",
      "Response: 0  Time(s): 4  Present Difficulty: 1\n",
      "Model prediction in actual Difficulty: 1\n",
      "Q: ['  The average of first 17 multiples of 13 is']\n",
      "A ['110.5']\n",
      "B ['117']\n",
      "C ['221']\n",
      "D ['111']\n",
      "Key ['B']\n",
      "Enter the option:B\n",
      "Response: 1  Time(s): 4  Present Difficulty: 1\n",
      "Model prediction in actual Difficulty: 3\n",
      "Q: ['  Average score for Virat Kohli in a series of 10 matches is 38.9 runs. If the average for first six matches comes out to be 42 what is his average in the last 4 matches of the series?']\n",
      "A ['34.25']\n",
      "B ['35']\n",
      "C ['33.25']\n",
      "D ['34.25']\n",
      "Key ['A']\n",
      "Enter the option:B\n",
      "Response: 0  Time(s): 18  Present Difficulty: 3\n",
      "Model prediction in actual Difficulty: 2\n",
      "Q: ['  What will be average price of all the goods bought, if Ajay buys 30 erasers for Rs. 3 each, 35 chocolates for Rs. 10 each and 25 clips at the rate of Rs. 4 each?']\n",
      "A ['Rs. 9']\n",
      "B ['Rs. 6']\n",
      "C ['Rs. 5.5']\n",
      "D ['Rs. 8.25']\n",
      "Key ['B']\n",
      "Enter the option:B\n",
      "Response: 1  Time(s): 7  Present Difficulty: 2\n",
      "Model prediction in actual Difficulty: 3\n",
      "Q: ['  If from a group of 5 people, an old member is replaced by a new one, the average age is same as it was 3 years ago. What is the difference between the ages of the old member and the new one?']\n",
      "A ['12']\n",
      "B ['15']\n",
      "C ['11']\n",
      "D ['18']\n",
      "Key ['B']\n",
      "Enter the option:A\n",
      "Response: 0  Time(s): 13  Present Difficulty: 3\n",
      "Model prediction in actual Difficulty: 2\n"
     ]
    }
   ],
   "source": [
    "# To record the responses of the student in res2 list and difficulty as d2, question numbers Q2 (For sorting purpose according to question number) \n",
    "res2 = []\n",
    "d2 = []\n",
    "Q2 = []\n",
    "# Begining with difficulty = 1 in concept = 1 \n",
    "diff = 1\n",
    "for i in range(5):\n",
    "    # Getting a question number with given difficulty and concept\n",
    "    d2.append(diff)\n",
    "    qno = DIFF(concept, difficulty, 1, diff)\n",
    "    Q2.append(qno)\n",
    "    q,k,a,b,c,d = question[qno],ans[qno],A[qno], B[qno], C[qno], D[qno]\n",
    "    print(\"Q:\",q)\n",
    "    print(\"A\",a)\n",
    "    print(\"B\",b)\n",
    "    print(\"C\",c)\n",
    "    print(\"D\",d)\n",
    "    print(\"Key\", k)\n",
    "    begin = time.time()\n",
    "    ans1 = input(\"Enter the option:\")\n",
    "    end = time.time()\n",
    "    \n",
    "    if(ans1 == k):\n",
    "        response = 1\n",
    "        res2.append(True)\n",
    "    else:\n",
    "        response =0\n",
    "        res2.append(False)\n",
    "    # Time taken converted to an integer value\n",
    "    time_taken = int(end-begin)\n",
    "    test = [response,diff,time_taken]\n",
    "    ints = [0,1,2,3,4,5,6,7,8]\n",
    "    c = kr.utils.to_categorical(ints)[int(1-1)]\n",
    "    test.extend(c)\n",
    "    print(\"Response:\",response,\" Time(s):\",time_taken,\" Present Difficulty:\",diff)\n",
    "    prediction = np.around(model.predict(np.expand_dims(test, axis=0))).astype(np.int)[0]\n",
    "    print(\"Model prediction in actual Difficulty: %s\" % outputs_vals[prediction.astype(np.bool)][0])\n",
    "    diff = outputs_vals[prediction.astype(np.bool)][0] \n",
    "\n",
    "# The key is printed for testing purpose\n",
    "# The difficulty of the next difficulty is predicted and the question with that difficulty is printed next"
   ]
  },
  {
   "cell_type": "code",
   "execution_count": 50,
   "metadata": {},
   "outputs": [
    {
     "data": {
      "text/plain": [
       "([[16], [19], [27], [2], [23]],\n",
       " [1, 1, 3, 2, 3],\n",
       " [False, True, False, True, False])"
      ]
     },
     "execution_count": 50,
     "metadata": {},
     "output_type": "execute_result"
    }
   ],
   "source": [
    "# Printing the question  umbers, difficulties, and the responses of the students\n",
    "d2 = [ int(x) for x in d2]\n",
    "Q2,d2,res2"
   ]
  },
  {
   "cell_type": "code",
   "execution_count": 23,
   "metadata": {},
   "outputs": [],
   "source": [
    "# For rearranging the responses with respect ot the question numbers\n",
    "#qno1 = numpy.argsort(Q1)\n",
    "#res1s = res1.copy()\n",
    "#for i in range(len(qno1)):\n",
    "#    res1s[i] = res1[qno1[i]]\n"
   ]
  },
  {
   "cell_type": "code",
   "execution_count": 31,
   "metadata": {},
   "outputs": [
    {
     "name": "stdout",
     "output_type": "stream",
     "text": [
      "2 was inserted.\n"
     ]
    }
   ],
   "source": [
    "# Writing the records to the responses table of mySQL table\n",
    "import mysql.connector\n",
    "\n",
    "mydb = mysql.connector.connect(\n",
    "  host=\"localhost\",\n",
    "  user=\"root\",\n",
    "  password=\"Root@123\",\n",
    "  database=\"mydb\"\n",
    ")\n",
    "\n",
    "mycursor = mydb.cursor()\n",
    "# Since tested with 5 questions, 5 responses are recorded\n",
    "sql = \"INSERT INTO responses VALUES (%s, %s, %s, %s, %s)\"\n",
    "val = [res1, res2]\n",
    "\n",
    "mycursor.executemany(sql, val)\n",
    "\n",
    "mydb.commit()\n",
    "\n",
    "print(mycursor.rowcount, \"was inserted.\")"
   ]
  },
  {
   "cell_type": "code",
   "execution_count": 53,
   "metadata": {},
   "outputs": [
    {
     "name": "stdout",
     "output_type": "stream",
     "text": [
      "2 was inserted.\n"
     ]
    }
   ],
   "source": [
    "# Writing the records to the responses table of mySQL table\n",
    "import mysql.connector\n",
    "\n",
    "mydb = mysql.connector.connect(\n",
    "  host=\"localhost\",\n",
    "  user=\"root\",\n",
    "  password=\"Root@123\",\n",
    "  database=\"mydb\"\n",
    ")\n",
    "\n",
    "mycursor = mydb.cursor()\n",
    "# Since tested with 5 questions, 5 responses are recorded\n",
    "sql = \"INSERT INTO difficulties VALUES (%s, %s, %s, %s, %s)\"\n",
    "val = [d1,d2]\n",
    "mycursor.executemany(sql, val)\n",
    "mydb.commit()\n",
    "print(mycursor.rowcount, \"was inserted.\")"
   ]
  },
  {
   "cell_type": "code",
   "execution_count": null,
   "metadata": {},
   "outputs": [],
   "source": []
  }
 ],
 "metadata": {
  "kernelspec": {
   "display_name": "Python 3",
   "language": "python",
   "name": "python3"
  },
  "language_info": {
   "codemirror_mode": {
    "name": "ipython",
    "version": 3
   },
   "file_extension": ".py",
   "mimetype": "text/x-python",
   "name": "python",
   "nbconvert_exporter": "python",
   "pygments_lexer": "ipython3",
   "version": "3.8.5"
  }
 },
 "nbformat": 4,
 "nbformat_minor": 5
}
